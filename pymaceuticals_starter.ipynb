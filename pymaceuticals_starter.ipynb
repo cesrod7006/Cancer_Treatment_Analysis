{
 "cells": [
  {
   "cell_type": "markdown",
   "metadata": {},
   "source": [
    "## Observations and Insights"
   ]
  },
  {
   "cell_type": "markdown",
   "metadata": {},
   "source": []
  },
  {
   "cell_type": "markdown",
   "metadata": {},
   "source": [
    "## Dependencies and starter code"
   ]
  },
  {
   "cell_type": "code",
   "execution_count": null,
   "metadata": {},
   "outputs": [],
   "source": [
    "# Dependencies and Setup\n",
    "import os\n",
    "import matplotlib.pyplot as plt\n",
    "import pandas as pd\n",
    "import scipy.stats as st\n",
    "import numpy as np\n",
    "\n",
    "# Study data files\n",
    "mouse_metadata = \"Resources/Mouse_metadata copy.csv\"\n",
    "study_results = \"Resources/Study_results copy.csv\"\n",
    "\n",
    "# Read the mouse data and the study results\n",
    "mouse_metadata = pd.read_csv(mouse_metadata)\n",
    "study_results = pd.read_csv(study_results)\n",
    "\n",
    "# Combine the data into a single dataset\n",
    "\n",
    "mouse_study=pd.merge(mouse_metadata,study_results,on=['Mouse ID','Mouse ID'], how='left')\n",
    "mouse_study.head()"
   ]
  },
  {
   "cell_type": "markdown",
   "metadata": {},
   "source": [
    "## Summary statistics"
   ]
  },
  {
   "cell_type": "code",
   "execution_count": null,
   "metadata": {},
   "outputs": [],
   "source": [
    "# Generate a summary statistics table of mean, median, variance, standard deviation, and SEM of the tumor volume for each regimen\n",
    "\n",
    "mean=mouse_study.groupby(['Drug Regimen']).mean()['Tumor Volume (mm3)']\n",
    "\n",
    "median=mouse_study.groupby(['Drug Regimen']).median()['Tumor Volume (mm3)']\n",
    "\n",
    "variance=mouse_study.groupby(['Drug Regimen']).var()['Tumor Volume (mm3)']\n",
    "\n",
    "sd=mouse_study.groupby(['Drug Regimen']).std()['Tumor Volume (mm3)']\n",
    "\n",
    "SEM=mouse_study.groupby(['Drug Regimen']).sem()['Tumor Volume (mm3)']\n",
    "\n",
    "Summary_Regimen=pd.DataFrame({'Average':mean,\n",
    "                            'Median': median,\n",
    "                            'Variance': variance,\n",
    "                            'Standard Deviation':sd,\n",
    "                            'Standard Error': SEM})\n",
    "\n",
    "Summary_Regimen"
   ]
  },
  {
   "cell_type": "markdown",
   "metadata": {},
   "source": [
    "## Bar plots"
   ]
  },
  {
   "cell_type": "code",
   "execution_count": null,
   "metadata": {},
   "outputs": [],
   "source": [
    "# Generate a bar plot showing number of data points of tumor volume for each treatment regimen using pandas\n",
    "#hint use count \n",
    "data_points=mouse_study.groupby(['Drug Regimen']).count()['Tumor Volume (mm3)']\n",
    "data_points.plot(kind='bar',figsize=(10,5))\n",
    "plt.xlabel('Drug Regimen')\n",
    "plt.ylabel('Tumor Volume (mm3)')\n",
    "plt.title('Data Points by Drug')"
   ]
  },
  {
   "cell_type": "code",
   "execution_count": null,
   "metadata": {},
   "outputs": [],
   "source": [
    "# Generate a bar plot showing number of data points for each treatment regimen using pyplot\n",
    "x_axis=list(data_points.index.values.tolist())\n",
    "x_ticks=[value for value in data_points]\n",
    "plt.figure(figsize=(10,5))\n",
    "plt.bar(x_axis,data_points,color='r', alpha=0.5, align=\"center\")\n",
    "plt.xlabel('Drug Regimen')\n",
    "plt.ylabel('Tumor Volume (mm3)')\n",
    "plt.title('Data Points by Drug')"
   ]
  },
  {
   "cell_type": "markdown",
   "metadata": {},
   "source": [
    "## Pie plots"
   ]
  },
  {
   "cell_type": "code",
   "execution_count": null,
   "metadata": {},
   "outputs": [],
   "source": [
    "# Generate a pie plot showing the distribution of female versus male mice using pandas\n",
    "sex_group=mouse_study.groupby('Sex')\n",
    "count_sex=sex_group['Sex'].count()\n",
    "\n",
    "count_sex.plot(kind='pie', figsize=(17,7),autopct=\"%1.1f%%\",shadow=True,startangle=90)\n",
    "plt.axis('equal')"
   ]
  },
  {
   "cell_type": "code",
   "execution_count": null,
   "metadata": {},
   "outputs": [],
   "source": [
    "# Generate a pie plot showing the distribution of female versus male mice using pyplot\n",
    "\n",
    "plt.pie(count_sex,autopct=\"%1.1f%%\", shadow=True, startangle=90,)\n",
    "plt.axis('equal')"
   ]
  },
  {
   "cell_type": "markdown",
   "metadata": {},
   "source": [
    "## Quartiles, outliers and boxplots"
   ]
  },
  {
   "cell_type": "code",
   "execution_count": null,
   "metadata": {},
   "outputs": [],
   "source": [
    "# Calculate the final tumor volume of each mouse across four of the most promising treatment regimens. Calculate the IQR and quantitatively determine if there are any potential outliers. \n",
    "#Drug Regimen Ramicane, Capomulin, Infubinol, Ceftamine, are the most promising \n",
    "\n",
    "#four_drugs=mouse_study.loc[(mouse_study['Drug Regimen']=='Ramicane')|(mouse_study['Drug Regimen']=='Capomulin')|(mouse_study['Drug Regimen']=='Infubinol')|(mouse_study['Drug Regimen']=='Ceftamine'),:]\n",
    "Ramicane=mouse_study.loc[(mouse_study['Drug Regimen']=='Ramicane') ,:]\n",
    "Ramicane_tumor_group=Ramicane.groupby(['Mouse ID']).sum()['Tumor Volume (mm3)']\n",
    "\n",
    "quartiles = Ramicane_tumor_group.quantile([.25,.5,.75])\n",
    "lowerq = quartiles[0.25]\n",
    "upperq = quartiles[0.75]\n",
    "iqr = upperq-lowerq\n",
    "\n",
    "lower_bound = lowerq - (1.5*iqr)\n",
    "upper_bound = upperq + (1.5*iqr)\n",
    "\n",
    "print(f\"The interquartile range for Ramicane is: {iqr}\")\n",
    "print(f\"Values below {lower_bound} could be outliers.\")\n",
    "print(f\"Values above {upper_bound} could be outliers.\")"
   ]
  },
  {
   "cell_type": "code",
   "execution_count": null,
   "metadata": {},
   "outputs": [],
   "source": [
    "# Calculate the final tumor volume of each mouse across four of the most promising treatment regimens. Calculate the IQR and quantitatively determine if there are any potential outliers. \n",
    "#Drug Regimen Capomulin\n",
    "Capomulin=mouse_study.loc[(mouse_study['Drug Regimen']=='Capomulin') ,:]\n",
    "Capomulin_tumor_group=Capomulin.groupby(['Mouse ID']).sum()['Tumor Volume (mm3)']\n",
    "\n",
    "quartiles = Capomulin_tumor_group.quantile([.25,.5,.75])\n",
    "lowerq = quartiles[0.25]\n",
    "upperq = quartiles[0.75]\n",
    "iqr = upperq-lowerq\n",
    "\n",
    "lower_bound = lowerq - (1.5*iqr)\n",
    "upper_bound = upperq + (1.5*iqr)\n",
    "\n",
    "print(f\"The interquartile range for Capomulin is: {iqr}\")\n",
    "print(f\"Values below {lower_bound} could be outliers.\")\n",
    "print(f\"Values above {upper_bound} could be outliers.\")"
   ]
  },
  {
   "cell_type": "code",
   "execution_count": null,
   "metadata": {},
   "outputs": [],
   "source": [
    "# Calculate the final tumor volume of each mouse across four of the most promising treatment regimens. Calculate the IQR and quantitatively determine if there are any potential outliers. \n",
    "#Drug Regimen Infubinol\n",
    "\n",
    "#four_drugs=mouse_study.loc[(mouse_study['Drug Regimen']=='Ramicane')|(mouse_study['Drug Regimen']=='Capomulin')|(mouse_study['Drug Regimen']=='Infubinol')|(mouse_study['Drug Regimen']=='Ceftamine'),:]\n",
    "Infubinol=mouse_study.loc[(mouse_study['Drug Regimen']=='Infubinol') ,:]\n",
    "Infubinol_tumor_group=Infubinol.groupby(['Mouse ID']).sum()['Tumor Volume (mm3)']\n",
    "\n",
    "quartiles = Infubinol_tumor_group.quantile([.25,.5,.75])\n",
    "lowerq = quartiles[0.25]\n",
    "upperq = quartiles[0.75]\n",
    "iqr = upperq-lowerq\n",
    "\n",
    "lower_bound = lowerq - (1.5*iqr)\n",
    "upper_bound = upperq + (1.5*iqr)\n",
    "\n",
    "print(f\"The interquartile range for Infubinol is: {iqr}\")\n",
    "print(f\"Values below {lower_bound} could be outliers.\")\n",
    "print(f\"Values above {upper_bound} could be outliers.\")"
   ]
  },
  {
   "cell_type": "code",
   "execution_count": null,
   "metadata": {},
   "outputs": [],
   "source": [
    "# Calculate the final tumor volume of each mouse across four of the most promising treatment regimens. Calculate the IQR and quantitatively determine if there are any potential outliers. \n",
    "#Drug Regimen Ceftamine \n",
    "\n",
    "#four_drugs=mouse_study.loc[(mouse_study['Drug Regimen']=='Ramicane')|(mouse_study['Drug Regimen']=='Capomulin')|(mouse_study['Drug Regimen']=='Infubinol')|(mouse_study['Drug Regimen']=='Ceftamine'),:]\n",
    "Ceftamin=mouse_study.loc[(mouse_study['Drug Regimen']=='Ceftamin') ,:]\n",
    "Ceftamin_tumor_group=Ceftamin.groupby(['Mouse ID']).sum()['Tumor Volume (mm3)']\n",
    "\n",
    "quartiles = Ceftamin_tumor_group.quantile([.25,.5,.75])\n",
    "lowerq = quartiles[0.25]\n",
    "upperq = quartiles[0.75]\n",
    "iqr = upperq-lowerq\n",
    "\n",
    "lower_bound = lowerq - (1.5*iqr)\n",
    "upper_bound = upperq + (1.5*iqr)\n",
    "\n",
    "print(f\"The interquartile range for Ceftamin is: {iqr}\")\n",
    "print(f\"Values below {lower_bound} could be outliers.\")\n",
    "print(f\"Values above {upper_bound} could be outliers.\")"
   ]
  },
  {
   "cell_type": "code",
   "execution_count": null,
   "metadata": {},
   "outputs": [],
   "source": [
    "# Generate a box plot of the final tumor volume of each mouse across four regimens of interest\n",
    "data = [Ramicane_tumor_group, Capomulin_tumor_group, Infubinol_tumor_group, Ceftamin_tumor_group]\n",
    "yellow_triangle = dict(markerfacecolor='y', marker='^')\n",
    "fig1, ax1 = plt.subplots()\n",
    "ax1.set_title('Final Tumor Volume of Each Mouse')\n",
    "ax1.set_ylabel('Final Tummor Volume (mm3)')\n",
    "ax1.set_xlabel('Treatment Regimen')\n",
    "ax1.boxplot(data,  flierprops=yellow_triangle)\n",
    "\n",
    "# Set the axes ranges and axes labels\n",
    "Treatments = [\"Ramicane\", \"Capomulin\", 'Infubinol', 'Ceftamin' ]\n",
    "ax1.set_xticklabels(Treatments,\n",
    "                    rotation=45, fontsize=8)\n",
    "\n",
    "\n",
    "plt.show()"
   ]
  },
  {
   "cell_type": "markdown",
   "metadata": {},
   "source": [
    "## Line and scatter plots"
   ]
  },
  {
   "cell_type": "code",
   "execution_count": null,
   "metadata": {},
   "outputs": [],
   "source": [
    "# Generate a line plot of time point versus tumor volume for a mouse treated with Capomulin\n",
    "Cap_df=mouse_study.loc[(mouse_study['Drug Regimen']=='Capomulin'),:]\n",
    "Cap_df=Cap_df.groupby(['Timepoint']).mean()['Tumor Volume (mm3)']\n",
    "Cap_df.plot(kind='line', figsize=(17,7))\n",
    "plt.xlabel('Timepoint')\n",
    "plt.ylabel('Tumor Volume (mm3)')\n",
    "plt.title('Average Tumor Volume per Timepoint')"
   ]
  },
  {
   "cell_type": "code",
   "execution_count": null,
   "metadata": {},
   "outputs": [],
   "source": [
    "# Generate a scatter plot of mouse weight versus average tumor volume for the Capomulin regimen\n",
    "Tumor_Weight=mouse_study.loc[(mouse_study['Drug Regimen']=='Capomulin'),:]\n",
    "Tumor_Weight=Tumor_Weight.groupby(['Weight (g)']).mean()['Tumor Volume (mm3)']\n",
    "Tumor_Weight_df=pd.DataFrame({'Tumor Volume':Tumor_Weight})\n",
    "x_axis=list(Tumor_Weight.index.values.tolist())\n",
    "x_values=[value for value in x_axis]\n",
    "y_values = Tumor_Weight_df ['Tumor Volume']\n",
    "plt.scatter(x_axis, y_values,)\n",
    "plt.xlabel('Mouse Weight (g)')\n",
    "plt.ylabel('Tumor Volume (mm3)')\n",
    "plt.title('Mouse Weight vs Tumor Volume')"
   ]
  },
  {
   "cell_type": "code",
   "execution_count": null,
   "metadata": {},
   "outputs": [],
   "source": [
    "# Calculate the correlation coefficient and linear regression model for mouse weight and average tumor volume for the Capomulin regimen\n",
    "Tumor_Weight=mouse_study.loc[(mouse_study['Drug Regimen']=='Capomulin'),:]\n",
    "Tumor_Weight=Tumor_Weight.groupby(['Mouse ID','Weight (g)']).mean()['Tumor Volume (mm3)']\n",
    "Tumor_Weight_df=pd.DataFrame({'Tumor Volume':Tumor_Weight})\n",
    "Tumor_Weight_df\n",
    "x_axis=np.arange(len(Tumor_Weight_df))\n",
    "y_values = Tumor_Weight_df ['Tumor Volume']\n",
    "(slope, intercept, rvalue, pvalue, stderr) = st.linregress(x_axis, y_values)\n",
    "regress_values = x_axis * slope + intercept\n",
    "line_eq = \"y = \" + str(round(slope,2)) + \"x + \" + str(round(intercept,2))\n",
    "correlation = st.pearsonr(x_axis,y_values)\n",
    "print(f\"The correlation between both factors is {round(correlation[0],2)}\")\n",
    "print(f'The Linear Regression Model is {line_eq}')"
   ]
  },
  {
   "cell_type": "code",
   "execution_count": null,
   "metadata": {},
   "outputs": [],
   "source": []
  }
 ],
 "metadata": {
  "anaconda-cloud": {},
  "kernelspec": {
   "display_name": "Python 3",
   "language": "python",
   "name": "python3"
  },
  "language_info": {
   "codemirror_mode": {
    "name": "ipython",
    "version": 3
   },
   "file_extension": ".py",
   "mimetype": "text/x-python",
   "name": "python",
   "nbconvert_exporter": "python",
   "pygments_lexer": "ipython3",
   "version": "3.7.4"
  }
 },
 "nbformat": 4,
 "nbformat_minor": 2
}
